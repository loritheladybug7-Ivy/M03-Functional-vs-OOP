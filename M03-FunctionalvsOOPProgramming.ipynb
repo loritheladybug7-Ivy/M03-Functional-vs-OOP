{
 "cells": [
  {
   "cell_type": "code",
   "execution_count": 2,
   "id": "5eb430c9-1ca5-401e-babf-fe428c2d631d",
   "metadata": {},
   "outputs": [],
   "source": [
    "# GeeksforGeeks, Sort 0s, 1s and 2 \n",
    "\n",
    "class Solution:\n",
    "    def sort012(self,arr,n):\n",
    "       # Initialize place markers for array\n",
    "        low = 0\n",
    "        mid = 0\n",
    "        high = n-1\n",
    "        \n",
    "       # Sort array, rearrange as you go \n",
    "        while mid <= high:\n",
    "            if arr[mid] == 0:\n",
    "                arr[low], arr[mid] = arr[mid], arr[low]\n",
    "                low += 1\n",
    "                mid += 1\n",
    "            elif arr[mid] == 1:\n",
    "                mid += 1\n",
    "            else:           # a[mid] == 2\n",
    "                arr[mid], arr[high], = arr[high], arr[mid]\n",
    "                high -= 1\n",
    "        return arr"
   ]
  },
  {
   "cell_type": "code",
   "execution_count": null,
   "id": "494a7283-fa5d-4e9f-b998-51d1ba95af3a",
   "metadata": {},
   "outputs": [],
   "source": [
    "# GeeksforGeeks, Binary Search\n",
    "\n",
    "class Solution:\t\n",
    "\tdef bin_search(self, arr, left, right, key):\n",
    "        # Check if k is in array\n",
    "\t\tif left > right:\n",
    "\t\t\treturn -1\n",
    "\t\t\n",
    "\t\t# Find middle index\n",
    "\t\tmid = (left + right) // 2\n",
    "\t\t\n",
    "\t\t# Check if mid is equal to k\n",
    "\t\tif arr[mid] == key:\n",
    "\t\t\treturn mid\n",
    "\t\t\n",
    "\t\t# If mid is greater than k, search left half\n",
    "\t\telif arr[mid] > key:\n",
    "\t\t\treturn self.bin_search (arr, left, mid - 1, key)\n",
    "\t\t\n",
    "\t\t # If mid is less than k, search right half\n",
    "\t\telse:\n",
    "\t\t\treturn self.bin_search (arr, mid + 1, right, key)\n",
    "\t\n",
    "\tdef binarysearch(self, arr, n, k):\n",
    "\t\t#call the recursive binary search function\n",
    "\t\treturn self.bin_search(arr, 0, n-1, k)"
   ]
  }
 ],
 "metadata": {
  "kernelspec": {
   "display_name": "Python 3 (ipykernel)",
   "language": "python",
   "name": "python3"
  },
  "language_info": {
   "codemirror_mode": {
    "name": "ipython",
    "version": 3
   },
   "file_extension": ".py",
   "mimetype": "text/x-python",
   "name": "python",
   "nbconvert_exporter": "python",
   "pygments_lexer": "ipython3",
   "version": "3.11.7"
  }
 },
 "nbformat": 4,
 "nbformat_minor": 5
}
